{
 "cells": [
  {
   "cell_type": "markdown",
   "id": "ae2e3a13-cea0-4413-ab16-ee1bb96f7d09",
   "metadata": {},
   "source": [
    "# RCES Final Project\n"
   ]
  },
  {
   "cell_type": "code",
   "execution_count": 3,
   "id": "d7f2f6ff-8fa0-45f8-b8cf-dacb329eb073",
   "metadata": {},
   "outputs": [],
   "source": [
    "#Binder https://mybinder.org/ sharing code, not for working\n"
   ]
  },
  {
   "cell_type": "code",
   "execution_count": null,
   "id": "43aa2e28-7640-46c0-b209-ca8d1301bc5c",
   "metadata": {},
   "outputs": [],
   "source": [
    "#[![Binder](https://mybinder.org/badge_logo.svg)](https://mybinder.org/v2/gh/jangelamaya/rces-final-project.git/main?labpath=final-project.ipynb)"
   ]
  },
  {
   "cell_type": "code",
   "execution_count": 4,
   "id": "d4045ff8-3c2f-439d-8971-196cc4778adc",
   "metadata": {},
   "outputs": [],
   "source": [
    "import pandas as pd\n"
   ]
  },
  {
   "cell_type": "code",
   "execution_count": null,
   "id": "e82e2ae7-f82d-47ae-aab5-2ac1520fc392",
   "metadata": {},
   "outputs": [],
   "source": []
  }
 ],
 "metadata": {
  "kernelspec": {
   "display_name": "Python 3 (ipykernel)",
   "language": "python",
   "name": "python3"
  },
  "language_info": {
   "codemirror_mode": {
    "name": "ipython",
    "version": 3
   },
   "file_extension": ".py",
   "mimetype": "text/x-python",
   "name": "python",
   "nbconvert_exporter": "python",
   "pygments_lexer": "ipython3",
   "version": "3.9.13"
  }
 },
 "nbformat": 4,
 "nbformat_minor": 5
}
